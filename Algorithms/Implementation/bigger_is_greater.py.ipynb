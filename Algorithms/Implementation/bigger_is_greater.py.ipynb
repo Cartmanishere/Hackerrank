{
 "cells": [
  {
   "cell_type": "code",
   "execution_count": null,
   "metadata": {},
   "outputs": [],
   "source": [
    "def get_result(w):\n",
    "    t = [ ord(i) - 96 for i in w[::-1]]\n",
    "    i =0\n",
    "    while t[i] < t[i+1]:\n",
    "        i += 1\n",
    "    \n",
    "\n",
    "    j = len(t) -1\n",
    "    while t[j] < t[i]:\n",
    "        j -= 1\n",
    "    t[i], t[j] = t[j], t[i]\n",
    "    t[i:] = t[i::-1]\n",
    "    \n",
    "    return t\n",
    "    \n",
    "        \n",
    "    \n",
    "    \n",
    "    \n",
    "n = int(input())"
   ]
  },
  {
   "cell_type": "code",
   "execution_count": null,
   "metadata": {},
   "outputs": [
    {
     "name": "stdout",
     "output_type": "stream",
     "text": [
      "dhkc\n"
     ]
    }
   ],
   "source": [
    "for i in range(n):\n",
    "    w = input()"
   ]
  },
  {
   "cell_type": "code",
   "execution_count": null,
   "metadata": {
    "collapsed": true
   },
   "outputs": [],
   "source": []
  }
 ],
 "metadata": {
  "kernelspec": {
   "display_name": "Python 3",
   "language": "python",
   "name": "python3"
  },
  "language_info": {
   "codemirror_mode": {
    "name": "ipython",
    "version": 3
   },
   "file_extension": ".py",
   "mimetype": "text/x-python",
   "name": "python",
   "nbconvert_exporter": "python",
   "pygments_lexer": "ipython3",
   "version": "3.6.3"
  }
 },
 "nbformat": 4,
 "nbformat_minor": 2
}
